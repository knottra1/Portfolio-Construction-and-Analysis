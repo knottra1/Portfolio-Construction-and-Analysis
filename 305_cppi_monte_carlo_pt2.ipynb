{
 "cells": [
  {
   "cell_type": "code",
   "execution_count": 4,
   "id": "0724d5c8-c875-42ef-92f3-f6235321d344",
   "metadata": {},
   "outputs": [
    {
     "name": "stdout",
     "output_type": "stream",
     "text": [
      "The autoreload extension is already loaded. To reload it, use:\n",
      "  %reload_ext autoreload\n"
     ]
    }
   ],
   "source": [
    "import ipywidgets as widgets\n",
    "from IPython.display import display\n",
    "import pandas as pd\n",
    "import numpy as np\n",
    "import edhec_risk_kit305 as erk\n",
    "\n",
    "%load_ext autoreload\n",
    "%autoreload 2"
   ]
  },
  {
   "cell_type": "code",
   "execution_count": 5,
   "id": "bbf94e9f-cd47-4fc3-9f76-34fd8e6ad0b2",
   "metadata": {},
   "outputs": [],
   "source": [
    "def run_cppi(risky_r, safe_r=None, m=3, start=1000, floor=0.8, riskfree_rate=0.03, drawdown=None):\n",
    "    \"\"\"\n",
    "    Run a backtest of the CPPI strategy, given a set of returns for the risky asset\n",
    "    Returns a dictionary containing: Asset Value History, Risk Budget History, Risky Weight History\n",
    "    \"\"\"\n",
    "    # set up the CPPI parameters\n",
    "    dates = risky_r.index\n",
    "    n_steps = len(dates)\n",
    "    account_value = start\n",
    "    floor_value = start*floor\n",
    "    peak = account_value\n",
    "    if isinstance(risky_r, pd.Series): \n",
    "        risky_r = pd.DataFrame(risky_r, columns=[\"R\"])\n",
    "\n",
    "    if safe_r is None:\n",
    "        safe_r = pd.DataFrame().reindex_like(risky_r)\n",
    "        safe_r.values[:] = riskfree_rate/12 # fast way to set all values to a number\n",
    "    # set up some DataFrames for saving intermediate values\n",
    "    account_history = pd.DataFrame().reindex_like(risky_r)\n",
    "    risky_w_history = pd.DataFrame().reindex_like(risky_r)\n",
    "    cushion_history = pd.DataFrame().reindex_like(risky_r)\n",
    "    floorval_history = pd.DataFrame().reindex_like(risky_r)\n",
    "    peak_history = pd.DataFrame().reindex_like(risky_r)\n",
    "\n",
    "    for step in range(n_steps):\n",
    "        if drawdown is not None:\n",
    "            peak = np.maximum(peak, account_value)\n",
    "            floor_value = peak*(1-drawdown)\n",
    "        cushion = (account_value - floor_value)/account_value\n",
    "        risky_w = m*cushion\n",
    "        risky_w = np.minimum(risky_w, 1)\n",
    "        risky_w = np.maximum(risky_w, 0)\n",
    "        safe_w = 1-risky_w\n",
    "        risky_alloc = account_value*risky_w\n",
    "        safe_alloc = account_value*safe_w\n",
    "        # recompute the new account value at the end of this step\n",
    "        account_value = risky_alloc*(1+risky_r.iloc[step]) + safe_alloc*(1+safe_r.iloc[step])\n",
    "        # save the histories for analysis and plotting\n",
    "        cushion_history.iloc[step] = cushion\n",
    "        risky_w_history.iloc[step] = risky_w\n",
    "        account_history.iloc[step] = account_value\n",
    "        floorval_history.iloc[step] = floor_value\n",
    "        peak_history.iloc[step] = peak\n",
    "    risky_wealth = start*(1+risky_r).cumprod()\n",
    "    backtest_result = {\n",
    "        \"Wealth\": account_history,\n",
    "        \"Risky Wealth\": risky_wealth, \n",
    "        \"Risk Budget\": cushion_history,\n",
    "        \"Risky Allocation\": risky_w_history,\n",
    "        \"m\": m,\n",
    "        \"start\": start,\n",
    "        \"floor\": floor,\n",
    "        \"risky_r\":risky_r,\n",
    "        \"safe_r\": safe_r,\n",
    "        \"drawdown\": drawdown,\n",
    "        \"peak\": peak_history,\n",
    "        \"floor\": floorval_history\n",
    "    }\n",
    "    return backtest_result"
   ]
  },
  {
   "cell_type": "code",
   "execution_count": 6,
   "id": "3f9b3d67-02f2-4802-b5e3-89e984b4c621",
   "metadata": {},
   "outputs": [
    {
     "data": {
      "application/vnd.jupyter.widget-view+json": {
       "model_id": "72b63dd898be4faabea0e578e9fcb21e",
       "version_major": 2,
       "version_minor": 0
      },
      "text/plain": [
       "interactive(children=(IntSlider(value=50, description='n_scenarios', max=1000, min=1, step=5), FloatSlider(val…"
      ]
     },
     "metadata": {},
     "output_type": "display_data"
    }
   ],
   "source": [
    "import matplotlib.pyplot as plt\n",
    "import numpy as np\n",
    "\n",
    "def show_cppi(n_scenarios=50, mu=0.07, sigma=0.15, m=3, floor=0., riskfree_rate=0.03, steps_per_year=12, y_max=100):\n",
    "    \"\"\"\n",
    "    Plot the results of a Monte Carlo Simulation of CPPI\n",
    "    \"\"\"\n",
    "    start = 100\n",
    "    sim_rets = erk.gbm(n_scenarios=n_scenarios, mu=mu, sigma=sigma, prices=False, steps_per_year=steps_per_year)\n",
    "    risky_r = pd.DataFrame(sim_rets)\n",
    "    # run the \"back\"-test\n",
    "    btr = erk.run_cppi(risky_r=pd.DataFrame(risky_r),riskfree_rate=riskfree_rate,m=m, start=start, floor=floor)\n",
    "    wealth = btr[\"Wealth\"]\n",
    "\n",
    "    # calculate terminal wealth stats\n",
    "    y_max=wealth.values.max()*y_max/100\n",
    "    terminal_wealth = wealth.iloc[-1]\n",
    "    \n",
    "    tw_mean = terminal_wealth.mean()\n",
    "    tw_median = terminal_wealth.median()\n",
    "    failure_mask = np.less(terminal_wealth, start*floor)\n",
    "    n_failures = failure_mask.sum()\n",
    "    p_fail = n_failures/n_scenarios\n",
    "\n",
    "    e_shortfall = np.dot(terminal_wealth-start*floor, failure_mask)/n_failures if n_failures > 0 else 0.0\n",
    "\n",
    "    # Plot!\n",
    "    fig, (wealth_ax, hist_ax) = plt.subplots(nrows=1, ncols=2, sharey=True, gridspec_kw={'width_ratios':[3,2]}, figsize=(24, 9))\n",
    "    plt.subplots_adjust(wspace=0.0)\n",
    "    \n",
    "    wealth.plot(ax=wealth_ax, legend=False, alpha=0.3, color=\"indianred\")\n",
    "    wealth_ax.axhline(y=start, ls=\":\", color=\"black\")\n",
    "    wealth_ax.axhline(y=start*floor, ls=\"--\", color=\"red\")\n",
    "    wealth_ax.set_ylim(top=y_max)\n",
    "    \n",
    "    terminal_wealth.plot.hist(ax=hist_ax, bins=50, ec='w', fc='indianred', orientation='horizontal')\n",
    "    hist_ax.axhline(y=start, ls=\":\", color=\"black\")\n",
    "    hist_ax.axhline(y=tw_mean, ls=\":\", color=\"blue\")\n",
    "    hist_ax.axhline(y=tw_median, ls=\":\", color=\"purple\")\n",
    "    hist_ax.annotate(f\"Mean: ${int(tw_mean)}\", xy=(.7, .9),xycoords='axes fraction', fontsize=24)\n",
    "    hist_ax.annotate(f\"Median: ${int(tw_median)}\", xy=(.7, .85),xycoords='axes fraction', fontsize=24)\n",
    "    if (floor > 0.01):\n",
    "        hist_ax.axhline(y=start*floor, ls=\"--\", color=\"red\", linewidth=3)\n",
    "        hist_ax.annotate(f\"Violations: {n_failures} ({p_fail*100:2.2f}%)\\nE(shortfall)=${e_shortfall:2.2f}\", xy=(.7, .7), xycoords='axes fraction', fontsize=24)\n",
    "\n",
    "cppi_controls = widgets.interactive(show_cppi,\n",
    "                                   n_scenarios=widgets.IntSlider(min=1, max=1000, step=5, value=50), \n",
    "                                   mu=(0., +.2, .01),\n",
    "                                   sigma=(0, .3, .05),\n",
    "                                   floor=(0, 2, .1),\n",
    "                                   m=(1, 5, .5),\n",
    "                                   riskfree_rate=(0, .05, .01),\n",
    "                                   steps_per_year=widgets.IntSlider(min=1, max=12, step=1, value=12,\n",
    "                                                          description=\"Rebals/Year\"),\n",
    "                                   y_max=widgets.IntSlider(min=0, max=100, step=1, value=100,\n",
    "                                                          description=\"Zoom Y Axis\")\n",
    ")\n",
    "display(cppi_controls)\n"
   ]
  },
  {
   "cell_type": "code",
   "execution_count": null,
   "id": "5b4e6758-d89e-40b7-8af2-feeafbd39e80",
   "metadata": {},
   "outputs": [],
   "source": []
  },
  {
   "cell_type": "code",
   "execution_count": null,
   "id": "02f4f2cd-6538-4ff5-8542-54c3b1b53f1b",
   "metadata": {},
   "outputs": [],
   "source": []
  }
 ],
 "metadata": {
  "kernelspec": {
   "display_name": "Python 3 (ipykernel)",
   "language": "python",
   "name": "python3"
  },
  "language_info": {
   "codemirror_mode": {
    "name": "ipython",
    "version": 3
   },
   "file_extension": ".py",
   "mimetype": "text/x-python",
   "name": "python",
   "nbconvert_exporter": "python",
   "pygments_lexer": "ipython3",
   "version": "3.11.5"
  }
 },
 "nbformat": 4,
 "nbformat_minor": 5
}
